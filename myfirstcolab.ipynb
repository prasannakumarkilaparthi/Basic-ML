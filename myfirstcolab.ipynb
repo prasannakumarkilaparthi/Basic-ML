{
  "nbformat": 4,
  "nbformat_minor": 0,
  "metadata": {
    "colab": {
      "name": "myfirstcolab.ipynb",
      "provenance": [],
      "collapsed_sections": [],
      "authorship_tag": "ABX9TyM3640C8zooHlgwbj5ghZN3",
      "include_colab_link": true
    },
    "kernelspec": {
      "name": "python3",
      "display_name": "Python 3"
    },
    "language_info": {
      "name": "python"
    }
  },
  "cells": [
    {
      "cell_type": "markdown",
      "metadata": {
        "id": "view-in-github",
        "colab_type": "text"
      },
      "source": [
        "<a href=\"https://colab.research.google.com/github/prasannakumarkilaparthi/Basic-ML/blob/main/myfirstcolab.ipynb\" target=\"_parent\"><img src=\"https://colab.research.google.com/assets/colab-badge.svg\" alt=\"Open In Colab\"/></a>"
      ]
    },
    {
      "cell_type": "markdown",
      "metadata": {
        "id": "y3ozMoQ3GVw5"
      },
      "source": [
        "**My first Noteebook**"
      ]
    },
    {
      "cell_type": "markdown",
      "metadata": {
        "id": "YAFiV5xcNHO4"
      },
      "source": [
        "**Python program for finding factorial:**"
      ]
    },
    {
      "cell_type": "code",
      "metadata": {
        "id": "yeBXC4nUNSaW",
        "colab": {
          "base_uri": "https://localhost:8080/"
        },
        "outputId": "91f2a44b-f9c4-48ce-b8a1-3b0953b53c5c"
      },
      "source": [
        "N = int(input(\"Enter a number: \"))    \n",
        "factorial = 1    \n",
        "if N < 0:    \n",
        "   print(\" Factorial does not exist for negative numbers\")    \n",
        "elif N == 0:    \n",
        "   print(\"The factorial of 0 is 1\")    \n",
        "else:    \n",
        "   for i in range(1,N+ 1):    \n",
        "       factorial = factorial*i    \n",
        "   print(\"The factorial of\",N,\"is\",factorial)"
      ],
      "execution_count": null,
      "outputs": [
        {
          "output_type": "stream",
          "text": [
            "Enter a number: 5\n",
            "The factorial of 5 is 120\n"
          ],
          "name": "stdout"
        }
      ]
    },
    {
      "cell_type": "markdown",
      "metadata": {
        "id": "ZUVIOZCpB0Pz"
      },
      "source": [
        "with the help of the above code we can find the factorial of a number using python.\n",
        "when the user inputs a number, the above python  program calculates the factorial.\n",
        "Here, the number whose factorial is to be found is stored in num, and we check if the number is negative, zero or positive using if...elif...else statement. If the number is positive, we use for loop and range() function to calculate the factorial."
      ]
    },
    {
      "cell_type": "markdown",
      "metadata": {
        "id": "TOlbZk-PFSO0"
      },
      "source": [
        "**Python program for finding sum of N natural numbers:**"
      ]
    },
    {
      "cell_type": "code",
      "metadata": {
        "colab": {
          "base_uri": "https://localhost:8080/"
        },
        "id": "Y5WALA71oycu",
        "outputId": "fee1c7f8-37b4-4c5c-ef26-fd97da1f8ed3"
      },
      "source": [
        "N = int(input())\n",
        "\n",
        "if N< 0:\n",
        "   print(\"Enter a positive number\")\n",
        "else:\n",
        "   sum = 0\n",
        "   # use while loop to iterate until zero\n",
        "   while(N > 0):\n",
        "       sum +=N \n",
        "       N -= 1\n",
        "   print(\"The sum is\", sum)"
      ],
      "execution_count": null,
      "outputs": [
        {
          "output_type": "stream",
          "text": [
            "5\n",
            "The sum is 15\n"
          ],
          "name": "stdout"
        }
      ]
    },
    {
      "cell_type": "markdown",
      "metadata": {
        "id": "OondjsmNpYOW"
      },
      "source": [
        "The above program is used to calculate the sum of N natural numbers.To test the program for a different number, change the value of N.\n",
        "Initially, the sum is initialized to 0. And, the number is stored in variable num.\n",
        "Then, we used the while loop to iterate until N becomes zero. In each iteration of the loop, we have added the N to sum and the value of N is decreased by 1."
      ]
    },
    {
      "cell_type": "markdown",
      "metadata": {
        "id": "GUQBFnUDrVAE"
      },
      "source": [
        "**Python program for finding whether even or odd:**"
      ]
    },
    {
      "cell_type": "code",
      "metadata": {
        "id": "XgKmAF4fsk0u",
        "colab": {
          "base_uri": "https://localhost:8080/"
        },
        "outputId": "c774bbc6-687a-4b2e-fbc8-644a2f88da64"
      },
      "source": [
        "N=int(input())\n",
        "if N%2==0:\n",
        "    print(\"Even\")\n",
        "else:\n",
        "    print(\"Odd\")"
      ],
      "execution_count": 5,
      "outputs": [
        {
          "output_type": "stream",
          "text": [
            "5\n",
            "Odd\n"
          ],
          "name": "stdout"
        }
      ]
    },
    {
      "cell_type": "markdown",
      "metadata": {
        "id": "82H08Lbosw5t"
      },
      "source": [
        "The above python program is used to identify whether the given number is odd or even. A number is even if it is perfectly divisible by 2. When the number is divided by 2, we use the remainder operator % to compute the remainder. If the remainder is not zero, the number is odd."
      ]
    }
  ]
}